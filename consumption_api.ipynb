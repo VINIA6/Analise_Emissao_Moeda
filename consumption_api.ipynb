{
 "cells": [
  {
   "cell_type": "markdown",
   "metadata": {},
   "source": [
    "#### Paginação em api \n"
   ]
  },
  {
   "cell_type": "markdown",
   "metadata": {},
   "source": [
    "Essa api disponibiliza links/endpoints para requisitar informações"
   ]
  },
  {
   "cell_type": "code",
   "execution_count": 45,
   "metadata": {},
   "outputs": [],
   "source": [
    "import requests, pprint\n",
    "import pandas as pd \n"
   ]
  },
  {
   "cell_type": "code",
   "execution_count": null,
   "metadata": {},
   "outputs": [],
   "source": [
    "def consumptioon_api_bcentral(link) -> pd.DataFrame:\n",
    "    req = requests.get(link)\n",
    "    info = requests.json()\n",
    "    data = pd.DataFrame(info['value'])\n",
    "    return data \n",
    "\n",
    "def consumption_api_bcentral_from_indice(indice, link):\n",
    "    data = pd.DataFrame()\n",
    "    percorrer_indice = 1\n",
    "    while True:\n",
    "        link=f'https://olinda.bcb.gov.br/olinda/servico/mecir_dinheiro_em_circulacao/versao/v1/odata/informacoes_diarias?$top={percorrer_indice}&$skip=0&$orderby=Data%20desc&$format=json'\n",
    "        req = requests.get(link)\n",
    "        info = req.json()\n",
    "        dataframe = pd.DataFrame(info['value'])\n",
    "        if len(info['value']) < 1:\n",
    "            break\n",
    "        data = pd.concat([data,dataframe])\n",
    "        percorrer_indice += 10000"
   ]
  },
  {
   "cell_type": "code",
   "execution_count": 46,
   "metadata": {},
   "outputs": [],
   "source": [
    "link = 'https://olinda.bcb.gov.br/olinda/servico/mecir_dinheiro_em_circulacao/versao/v1/odata/informacoes_diarias?$top=100000&$orderby=Data%20desc&$format=json'\n"
   ]
  }
 ],
 "metadata": {
  "kernelspec": {
   "display_name": "Python 3.9.13 ('venv': venv)",
   "language": "python",
   "name": "python3"
  },
  "language_info": {
   "codemirror_mode": {
    "name": "ipython",
    "version": 3
   },
   "file_extension": ".py",
   "mimetype": "text/x-python",
   "name": "python",
   "nbconvert_exporter": "python",
   "pygments_lexer": "ipython3",
   "version": "3.9.13"
  },
  "orig_nbformat": 4,
  "vscode": {
   "interpreter": {
    "hash": "b00540ab3586f2482034ce26344442c235a8ac56afc9532ed7e98909ec646566"
   }
  }
 },
 "nbformat": 4,
 "nbformat_minor": 2
}
